{
 "cells": [
  {
   "cell_type": "code",
   "execution_count": 1,
   "id": "ecf3abdd-5c1e-4375-8c47-a7f349fe9ddf",
   "metadata": {},
   "outputs": [],
   "source": [
    "from pathlib import Path\n",
    "\n",
    "#Path.cwd()\n",
    "\n",
    "filepath = Path(\"C:/Users/alexs/Desktop/Bootcamp/GithHUB/Python week 2 Homework/Starter_Code/Instructions/PyBank/Resources/budget_data.csv\")\n",
    "\n",
    "\n",
    "#with open(filepath, 'r') as file:\n",
    "#   text = file.read ()\n",
    "#  print(text)\n",
    "    \n",
    "file_to_load = Path(\"C:/Users/alexs/Desktop/Bootcamp/GithHUB/Python week 2 Homework/Starter_Code/Instructions/PyBank/Resources/budget_data.csv\")\n",
    "file_to_output = Path(\"budget_analysis.txt\")\n",
    "\n",
    "    \n",
    "# List of Monthly Profit and Loss "
   ]
  },
  {
   "cell_type": "code",
   "execution_count": 2,
   "id": "bd8882d4-e11b-4328-aa4d-000bf5781ce2",
   "metadata": {},
   "outputs": [],
   "source": [
    "# Determine the following\n",
    "# 1. Total Number of Months in Dataset (count)\n",
    "# 2. Net total profit / loss for entire period (Profit - loss)\n",
    "# 3. Average of changes in profit / loss over period\n",
    "# 4. Greatest increase in profits over entire period\n",
    "# 5. Greatest decrease in losses over the period"
   ]
  },
  {
   "cell_type": "code",
   "execution_count": 3,
   "id": "3fc107be-fed2-41d7-9270-ece5a4d9a555",
   "metadata": {},
   "outputs": [],
   "source": [
    "# Initalise Variables\n",
    "count = 0\n",
    "total_months = 0\n",
    "month_of_change = []\n",
    "net_change_list = []\n",
    "greatest_increase = ['',0]\n",
    "greatest_decrease = ['',99999999999]\n",
    "total_net = 0"
   ]
  },
  {
   "cell_type": "code",
   "execution_count": 4,
   "id": "7808ecfd-2087-4517-b011-50395734a2db",
   "metadata": {},
   "outputs": [],
   "source": [
    "import csv\n",
    "\n",
    "#Open the file in read mode and store the contents in the variable file\n",
    "with open(file_to_load) as financial_data:\n",
    "    reader = csv.reader(financial_data)\n",
    "\n",
    "\n",
    "    header = next(reader)\n",
    "\n",
    "        \n",
    "    first_row = next(reader)\n",
    "    total_months = total_months +1\n",
    "    total_net = total_net + int(first_row[1])\n",
    "    previous_net = int(first_row[1])\n",
    "    \n",
    "    for row in reader: \n",
    "        total_months = total_months +1\n",
    "        total_net = total_net + int(first_row[1])\n",
    "        net_change = int(first_row[1]) - previous_net\n",
    "        previous_net = int(first_row[1])\n",
    "        net_change_list = net_change_list = net_change_list + [net_change]\n",
    "        month_of_change = month_of_change + [row[0]]\n",
    "        \n",
    "        if net_change > greatest_increase [1]:\n",
    "            greatest_increase [0] = row [0]\n",
    "            greatest_increase [1] = net_change\n",
    "            \n",
    "        if net_change < greatest_decrease [1]:\n",
    "            greatest_decrease [0] = row [0]\n",
    "            greatest_decrease [1] = net_change\n",
    "            \n",
    "        \n"
   ]
  },
  {
   "cell_type": "code",
   "execution_count": 5,
   "id": "37fb9ddc-4a5d-4fc6-97f9-ba845368aaf4",
   "metadata": {},
   "outputs": [
    {
     "data": {
      "text/plain": [
       "0.0"
      ]
     },
     "execution_count": 5,
     "metadata": {},
     "output_type": "execute_result"
    }
   ],
   "source": [
    "net_monthly_avg = round(sum(net_change_list) / len(net_change_list),2)\n",
    "net_monthly_avg"
   ]
  },
  {
   "cell_type": "code",
   "execution_count": 6,
   "id": "536590aa-5c0d-42f5-97ea-78a59ced7ae0",
   "metadata": {},
   "outputs": [],
   "source": [
    "with open(file_to_output, \"w\") as txt_file:\n",
    "    txt_file.write(f\"Financial Analysis\\n\")\n",
    "    txt_file.write(f\"----------------------------\\n\")\n",
    "    txt_file.write(f\"Total Months: {total_months}\\n\")\n",
    "    txt_file.write(f\"Total: ${total_net}\\n\")\n",
    "    txt_file.write(f\"Average  Change: ${net_monthly_avg}\\n\")\n",
    "    txt_file.write(f\"Greatest Increase in Profits: {greatest_increase[0]} (${greatest_increase[1]})\\n\")\n",
    "    txt_file.write(f\"Greatest Decrease in Profits: {greatest_decrease[0]} (${greatest_decrease[1]})\\n\")"
   ]
  }
 ],
 "metadata": {
  "kernelspec": {
   "display_name": "Python 3 (ipykernel)",
   "language": "python",
   "name": "python3"
  },
  "language_info": {
   "codemirror_mode": {
    "name": "ipython",
    "version": 3
   },
   "file_extension": ".py",
   "mimetype": "text/x-python",
   "name": "python",
   "nbconvert_exporter": "python",
   "pygments_lexer": "ipython3",
   "version": "3.9.13"
  }
 },
 "nbformat": 4,
 "nbformat_minor": 5
}
